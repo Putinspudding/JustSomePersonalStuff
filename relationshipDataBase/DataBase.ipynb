{
 "cells": [
  {
   "cell_type": "code",
   "execution_count": 62,
   "metadata": {},
   "outputs": [
    {
     "name": "stdout",
     "output_type": "stream",
     "text": [
      "[['A', 'B', 'C'], ['a1', 'b1', 'c1'], ['a1', 'b2', 'c2'], ['a2', 'b2', 'c1']]\n"
     ]
    }
   ],
   "source": [
    "class dataBase:\n",
    "    def __init__(self,args=None):\n",
    "        self.db = [args]\n",
    "        \n",
    "R = dataBase([\"A\",\"B\",\"C\"])\n",
    "R.db.append([\"a1\",\"b1\",\"c1\"])\n",
    "R.db.append([\"a1\",\"b2\",\"c2\"])\n",
    "R.db.append([\"a2\",\"b2\",\"c1\"])\n",
    "S = dataBase([\"A\",\"B\",\"C\"])\n",
    "S.db.append([\"a1\",\"b2\",\"c2\"])\n",
    "S.db.append([\"a1\",\"b3\",\"c2\"])\n",
    "S.db.append([\"a2\",\"b2\",\"c1\"])\n",
    "print(R.db)"
   ]
  },
  {
   "cell_type": "code",
   "execution_count": 63,
   "metadata": {},
   "outputs": [
    {
     "data": {
      "text/plain": [
       "[['A', 'B', 'C'],\n",
       " ['a1', 'b1', 'c1'],\n",
       " ['a1', 'b2', 'c2'],\n",
       " ['a2', 'b2', 'c1'],\n",
       " ['a1', 'b3', 'c2']]"
      ]
     },
     "execution_count": 63,
     "metadata": {},
     "output_type": "execute_result"
    }
   ],
   "source": [
    "def union(S,R):\n",
    "    if S.db[0] != R.db[0]:\n",
    "        raise Exception(\"invalid object\")\n",
    "    else:\n",
    "        result = dataBase(S.db[0])\n",
    "        for i in R.db:\n",
    "            if i in result.db:\n",
    "                continue\n",
    "            else:\n",
    "                result.db.append(i)\n",
    "        for j in S.db:\n",
    "            if j in R.db:\n",
    "                continue\n",
    "            else:\n",
    "                result.db.append(j)\n",
    "        return result\n",
    "union(S,R).db"
   ]
  },
  {
   "cell_type": "code",
   "execution_count": 64,
   "metadata": {},
   "outputs": [
    {
     "data": {
      "text/plain": [
       "[['A', 'B', 'C'], ['a1', 'b1', 'c1']]"
      ]
     },
     "execution_count": 64,
     "metadata": {},
     "output_type": "execute_result"
    }
   ],
   "source": [
    "def difference(R,S):\n",
    "    if S.db[0] != R.db[0]:\n",
    "        raise Exception(\"invalid object\")\n",
    "    else:\n",
    "        result = dataBase(R.db[0])\n",
    "        for i in R.db:\n",
    "            if i in S.db:\n",
    "                continue\n",
    "            else:\n",
    "                result.db.append(i)\n",
    "        return result\n",
    "difference(R,S).db"
   ]
  },
  {
   "cell_type": "code",
   "execution_count": 65,
   "metadata": {},
   "outputs": [
    {
     "data": {
      "text/plain": [
       "[['A', 'B', 'C'], ['a1', 'b2', 'c2'], ['a2', 'b2', 'c1']]"
      ]
     },
     "execution_count": 65,
     "metadata": {},
     "output_type": "execute_result"
    }
   ],
   "source": [
    "def intersection(R,S):\n",
    "    return difference(R,difference(R,S))\n",
    "intersection(R,S).db"
   ]
  }
 ],
 "metadata": {
  "kernelspec": {
   "display_name": "Python 3",
   "language": "python",
   "name": "python3"
  },
  "language_info": {
   "codemirror_mode": {
    "name": "ipython",
    "version": 3
   },
   "file_extension": ".py",
   "mimetype": "text/x-python",
   "name": "python",
   "nbconvert_exporter": "python",
   "pygments_lexer": "ipython3",
   "version": "3.7.2"
  }
 },
 "nbformat": 4,
 "nbformat_minor": 2
}
